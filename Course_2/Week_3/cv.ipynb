{
 "cells": [
  {
   "cell_type": "markdown",
   "metadata": {},
   "source": [
    "# How to fine tune a Ridge/Lasso model with sklearn"
   ]
  },
  {
   "cell_type": "code",
   "execution_count": 1,
   "metadata": {},
   "outputs": [],
   "source": [
    "import pandas as pd\n",
    "import numpy as np\n",
    "import matplotlib.pyplot as plt\n",
    "import seaborn as sns\n",
    "from sklearn.metrics import r2_score, get_scorer\n",
    "from sklearn.linear_model import Lasso, Ridge, LassoCV, LinearRegression\n",
    "from sklearn.preprocessing import StandardScaler, PolynomialFeatures\n",
    "from sklearn.model_selection import KFold, RepeatedKFold, GridSearchCV, cross_validate, train_test_split, cross_val_score\n",
    "from sklearn.metrics import mean_absolute_error, mean_squared_error, r2_score\n"
   ]
  },
  {
   "cell_type": "code",
   "execution_count": 2,
   "metadata": {},
   "outputs": [],
   "source": [
    "pd.options.display.float_format = '{:,.2f}'.format\n"
   ]
  },
  {
   "cell_type": "code",
   "execution_count": 3,
   "metadata": {},
   "outputs": [],
   "source": [
    "column_names = \\\n",
    "    ['CRIM', 'ZN', 'INDUS', 'CHAS', 'NOX', 'RM', 'AGE',\n",
    "     'DIS', 'RAD', 'TAX', 'PTRATIO', 'B', 'LSTAT', 'MEDV']\n"
   ]
  },
  {
   "cell_type": "code",
   "execution_count": 4,
   "metadata": {},
   "outputs": [],
   "source": [
    "data = pd.read_csv(\"housing.csv\", delimiter=r\"\\s+\", header=None, names=column_names)\n",
    "y = data['MEDV']\n",
    "X = data.drop(['MEDV'], axis=1)"
   ]
  },
  {
   "cell_type": "code",
   "execution_count": 5,
   "metadata": {},
   "outputs": [
    {
     "data": {
      "text/html": [
       "<div>\n",
       "<style scoped>\n",
       "    .dataframe tbody tr th:only-of-type {\n",
       "        vertical-align: middle;\n",
       "    }\n",
       "\n",
       "    .dataframe tbody tr th {\n",
       "        vertical-align: top;\n",
       "    }\n",
       "\n",
       "    .dataframe thead th {\n",
       "        text-align: right;\n",
       "    }\n",
       "</style>\n",
       "<table border=\"1\" class=\"dataframe\">\n",
       "  <thead>\n",
       "    <tr style=\"text-align: right;\">\n",
       "      <th></th>\n",
       "      <th>CRIM</th>\n",
       "      <th>ZN</th>\n",
       "      <th>INDUS</th>\n",
       "      <th>CHAS</th>\n",
       "      <th>NOX</th>\n",
       "      <th>RM</th>\n",
       "      <th>AGE</th>\n",
       "      <th>DIS</th>\n",
       "      <th>RAD</th>\n",
       "      <th>TAX</th>\n",
       "      <th>PTRATIO</th>\n",
       "      <th>B</th>\n",
       "      <th>LSTAT</th>\n",
       "    </tr>\n",
       "  </thead>\n",
       "  <tbody>\n",
       "    <tr>\n",
       "      <th>0</th>\n",
       "      <td>0.01</td>\n",
       "      <td>18.00</td>\n",
       "      <td>2.31</td>\n",
       "      <td>0</td>\n",
       "      <td>0.54</td>\n",
       "      <td>6.58</td>\n",
       "      <td>65.20</td>\n",
       "      <td>4.09</td>\n",
       "      <td>1</td>\n",
       "      <td>296.00</td>\n",
       "      <td>15.30</td>\n",
       "      <td>396.90</td>\n",
       "      <td>4.98</td>\n",
       "    </tr>\n",
       "    <tr>\n",
       "      <th>1</th>\n",
       "      <td>0.03</td>\n",
       "      <td>0.00</td>\n",
       "      <td>7.07</td>\n",
       "      <td>0</td>\n",
       "      <td>0.47</td>\n",
       "      <td>6.42</td>\n",
       "      <td>78.90</td>\n",
       "      <td>4.97</td>\n",
       "      <td>2</td>\n",
       "      <td>242.00</td>\n",
       "      <td>17.80</td>\n",
       "      <td>396.90</td>\n",
       "      <td>9.14</td>\n",
       "    </tr>\n",
       "    <tr>\n",
       "      <th>2</th>\n",
       "      <td>0.03</td>\n",
       "      <td>0.00</td>\n",
       "      <td>7.07</td>\n",
       "      <td>0</td>\n",
       "      <td>0.47</td>\n",
       "      <td>7.18</td>\n",
       "      <td>61.10</td>\n",
       "      <td>4.97</td>\n",
       "      <td>2</td>\n",
       "      <td>242.00</td>\n",
       "      <td>17.80</td>\n",
       "      <td>392.83</td>\n",
       "      <td>4.03</td>\n",
       "    </tr>\n",
       "    <tr>\n",
       "      <th>3</th>\n",
       "      <td>0.03</td>\n",
       "      <td>0.00</td>\n",
       "      <td>2.18</td>\n",
       "      <td>0</td>\n",
       "      <td>0.46</td>\n",
       "      <td>7.00</td>\n",
       "      <td>45.80</td>\n",
       "      <td>6.06</td>\n",
       "      <td>3</td>\n",
       "      <td>222.00</td>\n",
       "      <td>18.70</td>\n",
       "      <td>394.63</td>\n",
       "      <td>2.94</td>\n",
       "    </tr>\n",
       "    <tr>\n",
       "      <th>4</th>\n",
       "      <td>0.07</td>\n",
       "      <td>0.00</td>\n",
       "      <td>2.18</td>\n",
       "      <td>0</td>\n",
       "      <td>0.46</td>\n",
       "      <td>7.15</td>\n",
       "      <td>54.20</td>\n",
       "      <td>6.06</td>\n",
       "      <td>3</td>\n",
       "      <td>222.00</td>\n",
       "      <td>18.70</td>\n",
       "      <td>396.90</td>\n",
       "      <td>5.33</td>\n",
       "    </tr>\n",
       "  </tbody>\n",
       "</table>\n",
       "</div>"
      ],
      "text/plain": [
       "   CRIM    ZN  INDUS  CHAS  NOX   RM   AGE  DIS  RAD    TAX  PTRATIO      B  \\\n",
       "0  0.01 18.00   2.31     0 0.54 6.58 65.20 4.09    1 296.00    15.30 396.90   \n",
       "1  0.03  0.00   7.07     0 0.47 6.42 78.90 4.97    2 242.00    17.80 396.90   \n",
       "2  0.03  0.00   7.07     0 0.47 7.18 61.10 4.97    2 242.00    17.80 392.83   \n",
       "3  0.03  0.00   2.18     0 0.46 7.00 45.80 6.06    3 222.00    18.70 394.63   \n",
       "4  0.07  0.00   2.18     0 0.46 7.15 54.20 6.06    3 222.00    18.70 396.90   \n",
       "\n",
       "   LSTAT  \n",
       "0   4.98  \n",
       "1   9.14  \n",
       "2   4.03  \n",
       "3   2.94  \n",
       "4   5.33  "
      ]
     },
     "execution_count": 5,
     "metadata": {},
     "output_type": "execute_result"
    }
   ],
   "source": [
    "X.head()"
   ]
  },
  {
   "cell_type": "code",
   "execution_count": 6,
   "metadata": {},
   "outputs": [
    {
     "data": {
      "text/html": [
       "<div>\n",
       "<style scoped>\n",
       "    .dataframe tbody tr th:only-of-type {\n",
       "        vertical-align: middle;\n",
       "    }\n",
       "\n",
       "    .dataframe tbody tr th {\n",
       "        vertical-align: top;\n",
       "    }\n",
       "\n",
       "    .dataframe thead th {\n",
       "        text-align: right;\n",
       "    }\n",
       "</style>\n",
       "<table border=\"1\" class=\"dataframe\">\n",
       "  <thead>\n",
       "    <tr style=\"text-align: right;\">\n",
       "      <th></th>\n",
       "      <th>CRIM</th>\n",
       "      <th>ZN</th>\n",
       "      <th>INDUS</th>\n",
       "      <th>CHAS</th>\n",
       "      <th>NOX</th>\n",
       "      <th>RM</th>\n",
       "      <th>AGE</th>\n",
       "      <th>DIS</th>\n",
       "      <th>RAD</th>\n",
       "      <th>TAX</th>\n",
       "      <th>PTRATIO</th>\n",
       "      <th>B</th>\n",
       "      <th>LSTAT</th>\n",
       "    </tr>\n",
       "  </thead>\n",
       "  <tbody>\n",
       "    <tr>\n",
       "      <th>count</th>\n",
       "      <td>506.00</td>\n",
       "      <td>506.00</td>\n",
       "      <td>506.00</td>\n",
       "      <td>506.00</td>\n",
       "      <td>506.00</td>\n",
       "      <td>506.00</td>\n",
       "      <td>506.00</td>\n",
       "      <td>506.00</td>\n",
       "      <td>506.00</td>\n",
       "      <td>506.00</td>\n",
       "      <td>506.00</td>\n",
       "      <td>506.00</td>\n",
       "      <td>506.00</td>\n",
       "    </tr>\n",
       "    <tr>\n",
       "      <th>mean</th>\n",
       "      <td>-0.00</td>\n",
       "      <td>0.00</td>\n",
       "      <td>0.00</td>\n",
       "      <td>-0.00</td>\n",
       "      <td>-0.00</td>\n",
       "      <td>-0.00</td>\n",
       "      <td>-0.00</td>\n",
       "      <td>-0.00</td>\n",
       "      <td>-0.00</td>\n",
       "      <td>0.00</td>\n",
       "      <td>-0.00</td>\n",
       "      <td>-0.00</td>\n",
       "      <td>-0.00</td>\n",
       "    </tr>\n",
       "    <tr>\n",
       "      <th>std</th>\n",
       "      <td>1.00</td>\n",
       "      <td>1.00</td>\n",
       "      <td>1.00</td>\n",
       "      <td>1.00</td>\n",
       "      <td>1.00</td>\n",
       "      <td>1.00</td>\n",
       "      <td>1.00</td>\n",
       "      <td>1.00</td>\n",
       "      <td>1.00</td>\n",
       "      <td>1.00</td>\n",
       "      <td>1.00</td>\n",
       "      <td>1.00</td>\n",
       "      <td>1.00</td>\n",
       "    </tr>\n",
       "    <tr>\n",
       "      <th>min</th>\n",
       "      <td>-0.42</td>\n",
       "      <td>-0.49</td>\n",
       "      <td>-1.56</td>\n",
       "      <td>-0.27</td>\n",
       "      <td>-1.47</td>\n",
       "      <td>-3.88</td>\n",
       "      <td>-2.34</td>\n",
       "      <td>-1.27</td>\n",
       "      <td>-0.98</td>\n",
       "      <td>-1.31</td>\n",
       "      <td>-2.71</td>\n",
       "      <td>-3.91</td>\n",
       "      <td>-1.53</td>\n",
       "    </tr>\n",
       "    <tr>\n",
       "      <th>25%</th>\n",
       "      <td>-0.41</td>\n",
       "      <td>-0.49</td>\n",
       "      <td>-0.87</td>\n",
       "      <td>-0.27</td>\n",
       "      <td>-0.91</td>\n",
       "      <td>-0.57</td>\n",
       "      <td>-0.84</td>\n",
       "      <td>-0.81</td>\n",
       "      <td>-0.64</td>\n",
       "      <td>-0.77</td>\n",
       "      <td>-0.49</td>\n",
       "      <td>0.21</td>\n",
       "      <td>-0.80</td>\n",
       "    </tr>\n",
       "    <tr>\n",
       "      <th>50%</th>\n",
       "      <td>-0.39</td>\n",
       "      <td>-0.49</td>\n",
       "      <td>-0.21</td>\n",
       "      <td>-0.27</td>\n",
       "      <td>-0.14</td>\n",
       "      <td>-0.11</td>\n",
       "      <td>0.32</td>\n",
       "      <td>-0.28</td>\n",
       "      <td>-0.52</td>\n",
       "      <td>-0.46</td>\n",
       "      <td>0.27</td>\n",
       "      <td>0.38</td>\n",
       "      <td>-0.18</td>\n",
       "    </tr>\n",
       "    <tr>\n",
       "      <th>75%</th>\n",
       "      <td>0.01</td>\n",
       "      <td>0.05</td>\n",
       "      <td>1.02</td>\n",
       "      <td>-0.27</td>\n",
       "      <td>0.60</td>\n",
       "      <td>0.48</td>\n",
       "      <td>0.91</td>\n",
       "      <td>0.66</td>\n",
       "      <td>1.66</td>\n",
       "      <td>1.53</td>\n",
       "      <td>0.81</td>\n",
       "      <td>0.43</td>\n",
       "      <td>0.60</td>\n",
       "    </tr>\n",
       "    <tr>\n",
       "      <th>max</th>\n",
       "      <td>9.93</td>\n",
       "      <td>3.80</td>\n",
       "      <td>2.42</td>\n",
       "      <td>3.67</td>\n",
       "      <td>2.73</td>\n",
       "      <td>3.56</td>\n",
       "      <td>1.12</td>\n",
       "      <td>3.96</td>\n",
       "      <td>1.66</td>\n",
       "      <td>1.80</td>\n",
       "      <td>1.64</td>\n",
       "      <td>0.44</td>\n",
       "      <td>3.55</td>\n",
       "    </tr>\n",
       "  </tbody>\n",
       "</table>\n",
       "</div>"
      ],
      "text/plain": [
       "        CRIM     ZN  INDUS   CHAS    NOX     RM    AGE    DIS    RAD    TAX  \\\n",
       "count 506.00 506.00 506.00 506.00 506.00 506.00 506.00 506.00 506.00 506.00   \n",
       "mean   -0.00   0.00   0.00  -0.00  -0.00  -0.00  -0.00  -0.00  -0.00   0.00   \n",
       "std     1.00   1.00   1.00   1.00   1.00   1.00   1.00   1.00   1.00   1.00   \n",
       "min    -0.42  -0.49  -1.56  -0.27  -1.47  -3.88  -2.34  -1.27  -0.98  -1.31   \n",
       "25%    -0.41  -0.49  -0.87  -0.27  -0.91  -0.57  -0.84  -0.81  -0.64  -0.77   \n",
       "50%    -0.39  -0.49  -0.21  -0.27  -0.14  -0.11   0.32  -0.28  -0.52  -0.46   \n",
       "75%     0.01   0.05   1.02  -0.27   0.60   0.48   0.91   0.66   1.66   1.53   \n",
       "max     9.93   3.80   2.42   3.67   2.73   3.56   1.12   3.96   1.66   1.80   \n",
       "\n",
       "       PTRATIO      B  LSTAT  \n",
       "count   506.00 506.00 506.00  \n",
       "mean     -0.00  -0.00  -0.00  \n",
       "std       1.00   1.00   1.00  \n",
       "min      -2.71  -3.91  -1.53  \n",
       "25%      -0.49   0.21  -0.80  \n",
       "50%       0.27   0.38  -0.18  \n",
       "75%       0.81   0.43   0.60  \n",
       "max       1.64   0.44   3.55  "
      ]
     },
     "execution_count": 6,
     "metadata": {},
     "output_type": "execute_result"
    }
   ],
   "source": [
    "sc = StandardScaler()\n",
    "X_scaled = sc.fit_transform(X)\n",
    "X_scaled = pd.DataFrame(X_scaled, columns=X.columns)\n",
    "X_scaled.describe()"
   ]
  },
  {
   "cell_type": "code",
   "execution_count": 7,
   "metadata": {},
   "outputs": [],
   "source": [
    "cv = RepeatedKFold(n_splits=10, n_repeats=3, random_state=1)\n",
    "lasso_alphas = np.linspace(0.00001, 0.2, 21)\n",
    "\n",
    "lasso = Lasso()\n",
    "grid = dict(alpha=lasso_alphas)\n",
    "gscv = GridSearchCV(lasso, grid, cv=cv, n_jobs=-1, scoring='neg_mean_absolute_error')\n",
    "results = gscv.fit(X_scaled, y)\n",
    "\n"
   ]
  },
  {
   "cell_type": "code",
   "execution_count": 8,
   "metadata": {},
   "outputs": [
    {
     "name": "stdout",
     "output_type": "stream",
     "text": [
      "Best alpha: 0.080006\n",
      "Best score: 3.3508\n",
      "Best params: {'alpha': 0.080006}\n"
     ]
    }
   ],
   "source": [
    "print(f\"Best alpha: {results.best_estimator_.alpha}\")\n",
    "print(f\"Best score: {-results.best_score_:.4f}\")\n",
    "print(f\"Best params: {results.best_params_}\")"
   ]
  },
  {
   "cell_type": "code",
   "execution_count": 9,
   "metadata": {},
   "outputs": [],
   "source": [
    "X_train, X_test, y_train, y_test = train_test_split(X_scaled, y, test_size=0.2, random_state=1)"
   ]
  },
  {
   "cell_type": "code",
   "execution_count": 10,
   "metadata": {},
   "outputs": [],
   "source": [
    "cv = RepeatedKFold(n_splits=10, n_repeats=3, random_state=1)\n",
    "lasso_alphas = np.linspace(0.00001, 0.2, 21)\n",
    "\n",
    "lasso = Lasso()\n",
    "grid = dict(alpha=lasso_alphas)\n",
    "gscv = GridSearchCV(lasso, grid, cv=cv, n_jobs=-1,\n",
    "                    scoring='neg_mean_absolute_error')\n",
    "\n"
   ]
  },
  {
   "cell_type": "code",
   "execution_count": 11,
   "metadata": {},
   "outputs": [],
   "source": [
    "cv = RepeatedKFold(n_splits=10, n_repeats=3, random_state=1)\n",
    "lasso_alphas = np.linspace(0.00001, 0.2, 21)\n",
    "\n",
    "lassos = [Lasso(alpha=alpha) for alpha in lasso_alphas]\n",
    "train_scores = [abs(cross_val_score(lassos[i], X_train, y_train, cv=cv, scoring='neg_mean_absolute_error')).mean() for i in range(len(lassos))]"
   ]
  },
  {
   "cell_type": "code",
   "execution_count": 12,
   "metadata": {},
   "outputs": [],
   "source": [
    "test_scores = [abs(cross_val_score(lassos[i], X_test, y_test, cv=cv, scoring='neg_mean_absolute_error')).mean() for i in range(len(lassos))]"
   ]
  },
  {
   "cell_type": "code",
   "execution_count": 13,
   "metadata": {},
   "outputs": [
    {
     "data": {
      "text/plain": [
       "<matplotlib.legend.Legend at 0x12fe82f50>"
      ]
     },
     "execution_count": 13,
     "metadata": {},
     "output_type": "execute_result"
    },
    {
     "data": {
      "image/png": "[encoded data removed]",
      "text/plain": [
       "<Figure size 432x288 with 1 Axes>"
      ]
     },
     "metadata": {
      "needs_background": "light"
     },
     "output_type": "display_data"
    }
   ],
   "source": [
    "plt.plot(lasso_alphas, train_scores, 'o-', color='r', label='Training MAE')\n",
    "plt.plot(lasso_alphas, test_scores, 'o-', color='g', label='Test MAE')\n",
    "plt.axvline(x=results.best_estimator_.alpha)\n",
    "plt.legend()"
   ]
  },
  {
   "cell_type": "code",
   "execution_count": 17,
   "metadata": {},
   "outputs": [
    {
     "data": {
      "text/plain": [
       "LassoCV(alphas=array([1.000000e-05, 1.000950e-02, 2.000900e-02, 3.000850e-02,\n",
       "       4.000800e-02, 5.000750e-02, 6.000700e-02, 7.000650e-02,\n",
       "       8.000600e-02, 9.000550e-02, 1.000050e-01, 1.100045e-01,\n",
       "       1.200040e-01, 1.300035e-01, 1.400030e-01, 1.500025e-01,\n",
       "       1.600020e-01, 1.700015e-01, 1.800010e-01, 1.900005e-01,\n",
       "       2.000000e-01]),\n",
       "        cv=RepeatedKFold(n_repeats=3, n_splits=10, random_state=1), n_jobs=-1)"
      ]
     },
     "execution_count": 17,
     "metadata": {},
     "output_type": "execute_result"
    }
   ],
   "source": [
    "lasso = LassoCV(alphas=lasso_alphas, cv=cv, n_jobs=-1)\n",
    "lasso.fit(X_scaled, y)"
   ]
  },
  {
   "cell_type": "code",
   "execution_count": 18,
   "metadata": {},
   "outputs": [
    {
     "data": {
      "text/plain": [
       "0.030008499999999997"
      ]
     },
     "execution_count": 18,
     "metadata": {},
     "output_type": "execute_result"
    }
   ],
   "source": [
    "lasso.alpha_"
   ]
  },
  {
   "cell_type": "code",
   "execution_count": null,
   "metadata": {},
   "outputs": [],
   "source": []
  }
 ],
 "metadata": {
  "kernelspec": {
   "display_name": "Python 3.10.4 ('23_Apprentissage_automatique-s364iqch')",
   "language": "python",
   "name": "python3"
  },
  "language_info": {
   "codemirror_mode": {
    "name": "ipython",
    "version": 3
   },
   "file_extension": ".py",
   "mimetype": "text/x-python",
   "name": "python",
   "nbconvert_exporter": "python",
   "pygments_lexer": "ipython3",
   "version": "3.10.4"
  },
  "orig_nbformat": 4,
  "vscode": {
   "interpreter": {
    "hash": "bb62a41fe0bbb5446b051c168c765352a1c68defd537bb9e26203ea6dfacd8b8"
   }
  }
 },
 "nbformat": 4,
 "nbformat_minor": 2
}
