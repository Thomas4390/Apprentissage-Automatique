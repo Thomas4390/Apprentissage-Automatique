{
 "cells": [
  {
   "cell_type": "code",
   "execution_count": 142,
   "metadata": {},
   "outputs": [],
   "source": [
    "import numpy as np\n",
    "import matplotlib.pyplot as plt\n"
   ]
  },
  {
   "cell_type": "code",
   "execution_count": 129,
   "metadata": {},
   "outputs": [
    {
     "data": {
      "text/plain": [
       "array([ 0.        ,  0.1010101 ,  0.2020202 ,  0.3030303 ,  0.4040404 ,\n",
       "        0.50505051,  0.60606061,  0.70707071,  0.80808081,  0.90909091,\n",
       "        1.01010101,  1.11111111,  1.21212121,  1.31313131,  1.41414141,\n",
       "        1.51515152,  1.61616162,  1.71717172,  1.81818182,  1.91919192,\n",
       "        2.02020202,  2.12121212,  2.22222222,  2.32323232,  2.42424242,\n",
       "        2.52525253,  2.62626263,  2.72727273,  2.82828283,  2.92929293,\n",
       "        3.03030303,  3.13131313,  3.23232323,  3.33333333,  3.43434343,\n",
       "        3.53535354,  3.63636364,  3.73737374,  3.83838384,  3.93939394,\n",
       "        4.04040404,  4.14141414,  4.24242424,  4.34343434,  4.44444444,\n",
       "        4.54545455,  4.64646465,  4.74747475,  4.84848485,  4.94949495,\n",
       "        5.05050505,  5.15151515,  5.25252525,  5.35353535,  5.45454545,\n",
       "        5.55555556,  5.65656566,  5.75757576,  5.85858586,  5.95959596,\n",
       "        6.06060606,  6.16161616,  6.26262626,  6.36363636,  6.46464646,\n",
       "        6.56565657,  6.66666667,  6.76767677,  6.86868687,  6.96969697,\n",
       "        7.07070707,  7.17171717,  7.27272727,  7.37373737,  7.47474747,\n",
       "        7.57575758,  7.67676768,  7.77777778,  7.87878788,  7.97979798,\n",
       "        8.08080808,  8.18181818,  8.28282828,  8.38383838,  8.48484848,\n",
       "        8.58585859,  8.68686869,  8.78787879,  8.88888889,  8.98989899,\n",
       "        9.09090909,  9.19191919,  9.29292929,  9.39393939,  9.49494949,\n",
       "        9.5959596 ,  9.6969697 ,  9.7979798 ,  9.8989899 , 10.        ])"
      ]
     },
     "execution_count": 129,
     "metadata": {},
     "output_type": "execute_result"
    }
   ],
   "source": [
    "xs = np.linspace(0, 10, 100)\n",
    "xs"
   ]
  },
  {
   "cell_type": "code",
   "execution_count": 130,
   "metadata": {},
   "outputs": [
    {
     "data": {
      "text/plain": [
       "array([ 0.91762504, -0.6231661 ,  0.0098713 ,  0.54146143,  0.67192765,\n",
       "        0.22755434,  1.54624017, -0.59645839,  0.35108067,  0.88992324,\n",
       "       -0.90306278, -0.86160594, -0.67629359,  0.97508716,  1.01567337,\n",
       "        1.71473855,  0.28058865, -0.79686743, -1.45698104, -1.81614041,\n",
       "       -1.97460663, -0.35559127, -1.03123633, -0.94056534, -1.00933304,\n",
       "        0.59488249,  0.50763996, -0.60578444,  1.38343383, -0.27398042,\n",
       "       -0.21277726,  0.36502573,  0.71690258,  0.96067946,  0.45436129,\n",
       "        0.69013142,  0.32823157, -0.04671282,  0.7640621 , -0.55452495,\n",
       "       -0.5005056 ,  0.43396287, -1.73193302, -0.9041062 ,  0.23200825,\n",
       "        2.29250579,  2.31105326,  0.18770859,  0.09005713,  0.4110791 ,\n",
       "       -2.17912837, -1.57858398,  0.13136363,  0.36155497, -0.43476035,\n",
       "        1.31889994,  0.68818192,  1.22993355,  0.69398358, -1.5229387 ,\n",
       "        0.18232722,  1.22852596,  1.0818673 , -0.28016388, -0.47489251,\n",
       "       -1.18388784, -0.51777736, -1.1989196 ,  0.23821725,  2.22810095,\n",
       "       -0.02371866,  0.97875481,  0.46796824, -1.80664504, -1.64114433,\n",
       "       -1.06469409, -0.55394631,  0.09867296, -0.5626785 ,  0.13575276,\n",
       "        0.65261753,  0.14415291, -1.08619595,  1.37473465, -0.28002453,\n",
       "        0.7724881 , -0.73020329, -0.12393636, -0.6035918 ,  0.17648708,\n",
       "       -0.02695648, -0.94341678, -0.81607182,  0.43824988, -0.96763938,\n",
       "       -0.15164768,  0.30752382,  1.02396376,  0.49744389, -1.45745881])"
      ]
     },
     "execution_count": 130,
     "metadata": {},
     "output_type": "execute_result"
    }
   ],
   "source": [
    "epsilons = np.random.standard_normal(100)\n",
    "epsilons"
   ]
  },
  {
   "cell_type": "code",
   "execution_count": 131,
   "metadata": {},
   "outputs": [
    {
     "data": {
      "text/plain": [
       "array([ 4.91762504,  3.5788541 ,  4.4139117 ,  5.14752204,  5.48000846,\n",
       "        5.23765535,  6.75836138,  4.81768303,  5.96724229,  6.70810506,\n",
       "        5.11713924,  5.36061628,  5.74794884,  7.60134979,  7.8439562 ,\n",
       "        8.74504158,  7.51291189,  6.637476  ,  6.1793826 ,  6.02224343,\n",
       "        6.06579741,  7.88683297,  7.41320812,  7.70589931,  7.83915181,\n",
       "        9.64538754,  9.76016522,  8.84876102, 11.03999948,  9.58460544,\n",
       "        9.8478288 , 10.62765199, 11.18154904, 11.62734613, 11.32304816,\n",
       "       11.76083849, 11.60095885, 11.42803465, 12.44082977, 11.32426292,\n",
       "       11.58030248, 12.71679115, 10.75291546, 11.78276249, 13.12089713,\n",
       "       15.38341488, 15.60398255, 13.68265809, 13.78702683, 14.310069  ,\n",
       "       11.92188173, 12.72444633, 14.63641413, 15.06862568, 14.47433056,\n",
       "       16.43001105, 16.00131323, 16.74508507, 16.4111553 , 14.39625322,\n",
       "       16.30353934, 17.55175828, 17.60711982, 16.44710885, 16.45440042,\n",
       "       15.94742529, 16.81555597, 16.33643393, 17.97559099, 20.16749489,\n",
       "       18.11769548, 19.32218915, 19.01342278, 16.94082971, 17.30835062,\n",
       "       18.08682106, 18.79958904, 19.65422851, 19.19489726, 20.09534872,\n",
       "       20.81423369, 20.50778928, 19.47946061, 22.14241142, 20.68967244,\n",
       "       21.94420527, 20.64353408, 21.45182122, 21.17418598, 22.15628506,\n",
       "       22.1548617 , 21.4404216 , 21.76978676, 23.22612867, 22.02225961,\n",
       "       23.04027151, 23.70146321, 24.61992335, 24.29542369, 22.54254119])"
      ]
     },
     "execution_count": 131,
     "metadata": {},
     "output_type": "execute_result"
    }
   ],
   "source": [
    "ys = 2*xs + 4 + epsilons\n",
    "ys"
   ]
  },
  {
   "cell_type": "code",
   "execution_count": 132,
   "metadata": {},
   "outputs": [
    {
     "data": {
      "text/plain": [
       "[<matplotlib.lines.Line2D at 0x11016ca30>]"
      ]
     },
     "execution_count": 132,
     "metadata": {},
     "output_type": "execute_result"
    },
    {
     "data": {
      "image/png": "[encoded data removed]",
      "text/plain": [
       "<Figure size 432x288 with 1 Axes>"
      ]
     },
     "metadata": {
      "needs_background": "light"
     },
     "output_type": "display_data"
    }
   ],
   "source": [
    "plt.plot(xs, ys)"
   ]
  },
  {
   "cell_type": "code",
   "execution_count": 133,
   "metadata": {},
   "outputs": [
    {
     "data": {
      "text/plain": [
       "((100,), (100,))"
      ]
     },
     "execution_count": 133,
     "metadata": {},
     "output_type": "execute_result"
    }
   ],
   "source": [
    "xs.shape, ys.shape"
   ]
  },
  {
   "cell_type": "code",
   "execution_count": 134,
   "metadata": {},
   "outputs": [],
   "source": [
    "xs = xs.reshape(-1,1)"
   ]
  },
  {
   "cell_type": "code",
   "execution_count": 135,
   "metadata": {},
   "outputs": [
    {
     "data": {
      "text/plain": [
       "array([[0.],\n",
       "       [0.],\n",
       "       [0.],\n",
       "       [0.],\n",
       "       [0.]])"
      ]
     },
     "execution_count": 135,
     "metadata": {},
     "output_type": "execute_result"
    }
   ],
   "source": [
    "np.zeros((5, 1))"
   ]
  },
  {
   "cell_type": "code",
   "execution_count": 136,
   "metadata": {},
   "outputs": [
    {
     "data": {
      "text/plain": [
       "((70, 1), (30, 1), (70,), (30,))"
      ]
     },
     "execution_count": 136,
     "metadata": {},
     "output_type": "execute_result"
    }
   ],
   "source": [
    "X_train, X_test, y_train, y_test = xs[:70], xs[70:], ys[:70], ys[70:]\n",
    "X_train.shape, X_test.shape, y_train.shape, y_test.shape\n"
   ]
  },
  {
   "cell_type": "code",
   "execution_count": 143,
   "metadata": {},
   "outputs": [
    {
     "ename": "AttributeError",
     "evalue": "'LinReg' object has no attribute 'bias'",
     "output_type": "error",
     "traceback": [
      "\u001b[0;31m---------------------------------------------------------------------------\u001b[0m",
      "\u001b[0;31mAttributeError\u001b[0m                            Traceback (most recent call last)",
      "\u001b[1;32m/Users/thomasvaudescal/Documents/Mes_documents/23_Apprentissage_automatique/Week_1/linear_regression.ipynb Cell 10'\u001b[0m in \u001b[0;36m<cell line: 5>\u001b[0;34m()\u001b[0m\n\u001b[1;32m      <a href='vscode-notebook-cell:/Users/thomasvaudescal/Documents/Mes_documents/23_Apprentissage_automatique/Week_1/linear_regression.ipynb#ch0000009?line=2'>3</a>\u001b[0m model \u001b[39m=\u001b[39m lrc\u001b[39m.\u001b[39mLinReg(epochs\u001b[39m=\u001b[39m\u001b[39m200\u001b[39m)\n\u001b[1;32m      <a href='vscode-notebook-cell:/Users/thomasvaudescal/Documents/Mes_documents/23_Apprentissage_automatique/Week_1/linear_regression.ipynb#ch0000009?line=3'>4</a>\u001b[0m w, b, l \u001b[39m=\u001b[39m model\u001b[39m.\u001b[39mfit(X_train, y_train)\n\u001b[0;32m----> <a href='vscode-notebook-cell:/Users/thomasvaudescal/Documents/Mes_documents/23_Apprentissage_automatique/Week_1/linear_regression.ipynb#ch0000009?line=4'>5</a>\u001b[0m predictions \u001b[39m=\u001b[39m model\u001b[39m.\u001b[39;49mpredict(xs)\n",
      "File \u001b[0;32m~/Documents/Mes_documents/23_Apprentissage_automatique/Week_1/lin_reg_class.py:62\u001b[0m, in \u001b[0;36mLinReg.predict\u001b[0;34m(self, X)\u001b[0m\n\u001b[1;32m     61\u001b[0m \u001b[39mdef\u001b[39;00m \u001b[39mpredict\u001b[39m(\u001b[39mself\u001b[39m, X):\n\u001b[0;32m---> 62\u001b[0m     \u001b[39mreturn\u001b[39;00m np\u001b[39m.\u001b[39mdot(X, \u001b[39mself\u001b[39m\u001b[39m.\u001b[39mweights) \u001b[39m+\u001b[39m \u001b[39mself\u001b[39;49m\u001b[39m.\u001b[39;49mbias\n",
      "\u001b[0;31mAttributeError\u001b[0m: 'LinReg' object has no attribute 'bias'"
     ]
    }
   ],
   "source": [
    "\n",
    "model = lrc.LinReg(epochs=200)\n",
    "w, b, l = model.fit(X_train, y_train)\n",
    "predictions = model.predict(xs)"
   ]
  },
  {
   "cell_type": "code",
   "execution_count": 138,
   "metadata": {},
   "outputs": [
    {
     "ename": "TypeError",
     "evalue": "LinReg.predict() takes 2 positional arguments but 4 were given",
     "output_type": "error",
     "traceback": [
      "\u001b[0;31m---------------------------------------------------------------------------\u001b[0m",
      "\u001b[0;31mTypeError\u001b[0m                                 Traceback (most recent call last)",
      "\u001b[1;32m/Users/thomasvaudescal/Documents/Mes_documents/23_Apprentissage_automatique/Week_1/linear_regression.ipynb Cell 11'\u001b[0m in \u001b[0;36m<cell line: 4>\u001b[0;34m()\u001b[0m\n\u001b[1;32m      <a href='vscode-notebook-cell:/Users/thomasvaudescal/Documents/Mes_documents/23_Apprentissage_automatique/Week_1/linear_regression.ipynb#ch0000010?line=1'>2</a>\u001b[0m fig \u001b[39m=\u001b[39m plt\u001b[39m.\u001b[39mfigure(figsize\u001b[39m=\u001b[39m(\u001b[39m8\u001b[39m, \u001b[39m6\u001b[39m))\n\u001b[1;32m      <a href='vscode-notebook-cell:/Users/thomasvaudescal/Documents/Mes_documents/23_Apprentissage_automatique/Week_1/linear_regression.ipynb#ch0000010?line=2'>3</a>\u001b[0m plt\u001b[39m.\u001b[39mscatter(xs, ys)\n\u001b[0;32m----> <a href='vscode-notebook-cell:/Users/thomasvaudescal/Documents/Mes_documents/23_Apprentissage_automatique/Week_1/linear_regression.ipynb#ch0000010?line=3'>4</a>\u001b[0m plt\u001b[39m.\u001b[39mplot(xs, model\u001b[39m.\u001b[39;49mpredict(xs, w, b))  \u001b[39m# X and predictions.\u001b[39;00m\n\u001b[1;32m      <a href='vscode-notebook-cell:/Users/thomasvaudescal/Documents/Mes_documents/23_Apprentissage_automatique/Week_1/linear_regression.ipynb#ch0000010?line=4'>5</a>\u001b[0m plt\u001b[39m.\u001b[39mtitle(\u001b[39m'\u001b[39m\u001b[39mHours vs Percentage\u001b[39m\u001b[39m'\u001b[39m)\n\u001b[1;32m      <a href='vscode-notebook-cell:/Users/thomasvaudescal/Documents/Mes_documents/23_Apprentissage_automatique/Week_1/linear_regression.ipynb#ch0000010?line=5'>6</a>\u001b[0m plt\u001b[39m.\u001b[39mxlabel(\u001b[39m'\u001b[39m\u001b[39mX (Input) : Hours\u001b[39m\u001b[39m'\u001b[39m)\n",
      "\u001b[0;31mTypeError\u001b[0m: LinReg.predict() takes 2 positional arguments but 4 were given"
     ]
    },
    {
     "data": {
      "image/png": "[encoded data removed]",
      "text/plain": [
       "<Figure size 576x432 with 1 Axes>"
      ]
     },
     "metadata": {
      "needs_background": "light"
     },
     "output_type": "display_data"
    }
   ],
   "source": [
    "# Plotting our predictions.\n",
    "fig = plt.figure(figsize=(8, 6))\n",
    "plt.scatter(xs, ys)\n",
    "plt.plot(xs, predictions)  # X and predictions.\n",
    "plt.title('Hours vs Percentage')\n",
    "plt.xlabel('X (Input) : Hours')\n",
    "plt.ylabel('y (Target) : Scores')\n"
   ]
  },
  {
   "cell_type": "code",
   "execution_count": null,
   "metadata": {},
   "outputs": [],
   "source": []
  }
 ],
 "metadata": {
  "kernelspec": {
   "display_name": "Python 3.10.4 ('23_Apprentissage_automatique-s364iqch')",
   "language": "python",
   "name": "python3"
  },
  "language_info": {
   "codemirror_mode": {
    "name": "ipython",
    "version": 3
   },
   "file_extension": ".py",
   "mimetype": "text/x-python",
   "name": "python",
   "nbconvert_exporter": "python",
   "pygments_lexer": "ipython3",
   "version": "3.10.4"
  },
  "orig_nbformat": 4,
  "vscode": {
   "interpreter": {
    "hash": "bb62a41fe0bbb5446b051c168c765352a1c68defd537bb9e26203ea6dfacd8b8"
   }
  }
 },
 "nbformat": 4,
 "nbformat_minor": 2
}
